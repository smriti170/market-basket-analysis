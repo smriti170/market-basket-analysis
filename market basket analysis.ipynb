{
 "cells": [
  {
   "cell_type": "code",
   "execution_count": null,
   "metadata": {},
   "outputs": [],
   "source": [
    "import pandas as pd\n",
    "from mlxtend.frequent_patterns import fpgrowth, association_rules\n",
    "from mlxtend.preprocessing import TransactionEncoder\n",
    "# Load your dataset\n",
    "data = pd.read_csv('path_to_your_dataset.csv')\n",
    "# Drop unnecessary columns\n",
    "data = data.drop([\"Description\", \"Quantity\", \"InvoiceDate\", \"UnitPrice\", \"CustomerID\", \"Country\"], axis=1)\n",
    "data = data.dropna()\n",
    "\n",
    "# Group items by transaction\n",
    "transaction_data = data.groupby(\"InvoiceNo\")[\"StockCode\"].apply(list).reset_index(name='Items')\n",
    "transactions = transaction_data[\"Items\"].tolist()\n",
    "# Use TransactionEncoder to convert transactions into a one-hot encoded DataFrame\n",
    "transaction_encoder = TransactionEncoder()\n",
    "transaction_array = transaction_encoder.fit(transactions).transform(transactions)\n",
    "transaction_dataframe = pd.DataFrame(transaction_array, columns=transaction_encoder.columns_)\n",
    "# Apply the FP-Growth algorithm\n",
    "frequent_itemsets = fpgrowth(transaction_dataframe, min_support=0.02, use_colnames=True)\n",
    "# Generate the association rules\n",
    "rules = association_rules(frequent_itemsets, metric=\"confidence\", min_threshold=0.5)\n",
    "# Display the frequent itemsets and association rules\n",
    "print(\"Frequent Itemsets:\")\n",
    "print(frequent_itemsets)\n",
    "\n",
    "print(\"\\nAssociation Rules:\")\n",
    "print(rules)\n"
   ]
  }
 ],
 "metadata": {
  "language_info": {
   "name": "python"
  }
 },
 "nbformat": 4,
 "nbformat_minor": 2
}
